{
 "cells": [
  {
   "cell_type": "code",
   "execution_count": null,
   "metadata": {},
   "outputs": [],
   "source": [
    "import asyncio\n",
    "import json\n",
    "import aiohttp\n",
    "import pandas as pd\n",
    "import numpy as np\n",
    "from understat import Understat"
   ]
  },
  {
   "cell_type": "code",
   "execution_count": null,
   "metadata": {},
   "outputs": [],
   "source": [
    "session = aiohttp.ClientSession()\n",
    "understat = Understat(session)\n",
    "results = await understat.get_team_results(\n",
    "    \"Chelsea\",\n",
    "    2021,\n",
    ")"
   ]
  },
  {
   "cell_type": "code",
   "execution_count": null,
   "metadata": {},
   "outputs": [],
   "source": [
    "# save json response to variable\n",
    "response = json.dumps(results)\n",
    "\n",
    "# save json response into file\n",
    "with open('understat.json', 'w') as json_response:\n",
    "    json.dump(response, json_response)"
   ]
  },
  {
   "cell_type": "code",
   "execution_count": null,
   "metadata": {},
   "outputs": [],
   "source": [
    "# load data using Python JSON module\n",
    "with open('understat.json','r') as f:\n",
    "    data = json.loads(f.read())\n",
    "    \n",
    "# convert json to pandas dataframe\n",
    "df = pd.read_json(data)"
   ]
  },
  {
   "cell_type": "code",
   "execution_count": null,
   "metadata": {},
   "outputs": [],
   "source": [
    "# clean up dictionaries\n",
    "df_goals=df['goals'].apply(pd.Series).rename(columns={\"h\": \"h_goals\", \"a\": \"a_goals\"})\n",
    "df_xG=df['xG'].apply(pd.Series).rename(columns={\"h\": \"h_xG\", \"a\": \"a_xG\"})\n",
    "df_h=df['h'].apply(pd.Series).rename(columns={\"id\": \"h_id\", \"title\": \"h_name\", \"short_title\": \"h_abbr\"})\n",
    "df_a=df['a'].apply(pd.Series).rename(columns={\"id\": \"a_id\", \"title\": \"a_name\", \"short_title\": \"a_abbr\"})\n",
    "\n",
    "# concat columns and drop/remove the columns with dictionaries \n",
    "df = pd.concat([df, df_h, df_a, df_goals, df_xG], axis = 1).drop(columns=['isResult', 'h','a','goals','xG','forecast'], axis = 1)\n",
    "\n",
    "# get Chelsea values for reporting purposes\n",
    "df['che_goals'] = np.where(df['side']=='a',df['a_goals'],df['h_goals'])\n",
    "df['che_xG'] = np.where(df['side']=='a',df['a_xG'],df['h_xG'])\n",
    "\n",
    "# get opponent values for reporting purposes\n",
    "df['opp_goals'] = np.where(df['h_abbr']=='CHE',df['a_goals'],df['h_goals'])\n",
    "df['opp_xG'] = np.where(df['h_abbr']=='CHE',df['a_xG'],df['h_xG'])\n",
    "\n",
    "df['gameweek'] = df.index+1\n",
    "\n",
    "# save to csv\n",
    "df.to_csv('che_xg.csv',index=False)"
   ]
  },
  {
   "cell_type": "code",
   "execution_count": null,
   "metadata": {},
   "outputs": [],
   "source": [
    "# melt master dataframe to position data for 2 measures (goals, xG) with gameweek and team as dimension\n",
    "\n",
    "# melt df for goals measures\n",
    "df_melt_h_goals=df\n",
    "df_melt_h_goals=df_melt_h_goals.melt(id_vars=['h_abbr'], value_vars=['h_goals'])\n",
    "df_melt_h_goals['gameweek'] = df.index+1\n",
    "\n",
    "df_melt_a_goals=df\n",
    "df_melt_a_goals=df_melt_a_goals.melt(id_vars=['a_abbr'], value_vars=['a_goals'])\n",
    "df_melt_a_goals['gameweek'] = df.index+1\n",
    "\n",
    "goals_frames=[df_melt_h_goals,df_melt_a_goals]\n",
    "goals_result=pd.concat(goals_frames)\n",
    "\n",
    "goals_result['team'] = goals_result['h_abbr'].mask(pd.isnull, goals_result['a_abbr'])\n",
    "goals_result=goals_result.drop(columns=['h_abbr', 'variable','a_abbr']).rename(columns={\"value\": \"goals\"})\n",
    "\n",
    "\n",
    "# melt df for xG measures\n",
    "df_melt_h_xG=df\n",
    "df_melt_h_xG=df_melt_h_xG.melt(id_vars=['h_abbr'], value_vars=['h_xG'])\n",
    "df_melt_h_xG['gameweek'] = df.index+1\n",
    "\n",
    "df_melt_a_xG=df\n",
    "df_melt_a_xG=df_melt_a_xG.melt(id_vars=['a_abbr'], value_vars=['a_xG'])\n",
    "df_melt_a_xG['gameweek'] = df.index+1\n",
    "\n",
    "xG_frames=[df_melt_h_xG,df_melt_a_xG]\n",
    "xG_result=pd.concat(xG_frames)\n",
    "\n",
    "xG_result['team'] = xG_result['h_abbr'].mask(pd.isnull, xG_result['a_abbr'])\n",
    "xG_result=xG_result.drop(columns=['h_abbr', 'variable','a_abbr']).rename(columns={\"value\": \"xG\"})"
   ]
  },
  {
   "cell_type": "code",
   "execution_count": null,
   "metadata": {},
   "outputs": [],
   "source": [
    "result=goals_result.merge(xG_result, on=['gameweek','team'], how='left')\n",
    "\n",
    "\n",
    "# save to csv\n",
    "result.to_csv('che.csv',index=False)"
   ]
  }
 ],
 "metadata": {
  "kernelspec": {
   "display_name": "Python 3",
   "language": "python",
   "name": "python3"
  },
  "language_info": {
   "codemirror_mode": {
    "name": "ipython",
    "version": 3
   },
   "file_extension": ".py",
   "mimetype": "text/x-python",
   "name": "python",
   "nbconvert_exporter": "python",
   "pygments_lexer": "ipython3",
   "version": "3.8.3"
  }
 },
 "nbformat": 4,
 "nbformat_minor": 4
}
